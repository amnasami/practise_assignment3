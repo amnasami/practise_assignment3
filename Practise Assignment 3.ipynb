{
 "cells": [
  {
   "cell_type": "markdown",
   "metadata": {},
   "source": [
    "# Q1:"
   ]
  },
  {
   "cell_type": "markdown",
   "metadata": {},
   "source": [
    "Think of at least three kinds of your favorite pizza. Store these pizza names in a list, and then use a for loop to print the name of each pizza."
   ]
  },
  {
   "cell_type": "code",
   "execution_count": 17,
   "metadata": {},
   "outputs": [],
   "source": [
    "pizza = [\"fajita\", \"supream\", \"tikka\", \"afghani\"]"
   ]
  },
  {
   "cell_type": "code",
   "execution_count": 2,
   "metadata": {},
   "outputs": [
    {
     "name": "stdout",
     "output_type": "stream",
     "text": [
      "fajita\n",
      "supream\n",
      "tikka\n",
      "afghani\n"
     ]
    }
   ],
   "source": [
    "for pizz in pizza:\n",
    "    print(pizz)"
   ]
  },
  {
   "cell_type": "code",
   "execution_count": null,
   "metadata": {},
   "outputs": [],
   "source": []
  },
  {
   "cell_type": "markdown",
   "metadata": {},
   "source": [
    "# Q2"
   ]
  },
  {
   "cell_type": "markdown",
   "metadata": {},
   "source": [
    "Start with your last question , Modify your for loop to print a sentence using the name of the pizza\n",
    "instead of printing just the name of the pizza. For each pizza you should\n",
    "have one line of output containing a simple statement like I like pepperoni\n",
    "pizza."
   ]
  },
  {
   "cell_type": "code",
   "execution_count": 2,
   "metadata": {},
   "outputs": [],
   "source": [
    "pizza = [\"fajita\", \"supream\", \"tikka\", \"afghani\"]"
   ]
  },
  {
   "cell_type": "code",
   "execution_count": 5,
   "metadata": {},
   "outputs": [
    {
     "name": "stdout",
     "output_type": "stream",
     "text": [
      "I like fajita pizza\n",
      "I like supream pizza\n",
      "I like tikka pizza\n",
      "I like afghani pizza\n"
     ]
    }
   ],
   "source": [
    "for piza in pizza:\n",
    "    print(\"I like\" + \" \" + piza + \" \" + \"pizza\")"
   ]
  },
  {
   "cell_type": "code",
   "execution_count": null,
   "metadata": {},
   "outputs": [],
   "source": []
  },
  {
   "cell_type": "markdown",
   "metadata": {},
   "source": [
    "# Q3:"
   ]
  },
  {
   "cell_type": "markdown",
   "metadata": {},
   "source": [
    "Use a for loop to print the numbers from 1 to 20,\n",
    "inclusive."
   ]
  },
  {
   "cell_type": "code",
   "execution_count": 7,
   "metadata": {},
   "outputs": [
    {
     "name": "stdout",
     "output_type": "stream",
     "text": [
      "1\n",
      "2\n",
      "3\n",
      "4\n",
      "5\n",
      "6\n",
      "7\n",
      "8\n",
      "9\n",
      "10\n",
      "11\n",
      "12\n",
      "13\n",
      "14\n",
      "15\n",
      "16\n",
      "17\n",
      "18\n",
      "19\n",
      "20\n"
     ]
    }
   ],
   "source": [
    "for value in range(1, 21):\n",
    "    print(value)"
   ]
  },
  {
   "cell_type": "markdown",
   "metadata": {},
   "source": [
    "# Q4:"
   ]
  },
  {
   "cell_type": "markdown",
   "metadata": {},
   "source": [
    "Use the third argument of the range() function to make a list\n",
    "of the odd numbers from 1 to 20. Use a for loop to print each number."
   ]
  },
  {
   "cell_type": "code",
   "execution_count": 9,
   "metadata": {},
   "outputs": [
    {
     "name": "stdout",
     "output_type": "stream",
     "text": [
      "2\n",
      "4\n",
      "6\n",
      "8\n",
      "10\n",
      "12\n",
      "14\n",
      "16\n",
      "18\n",
      "20\n"
     ]
    }
   ],
   "source": [
    "for values in range(2, 21, 2):\n",
    "    print(values)"
   ]
  },
  {
   "cell_type": "markdown",
   "metadata": {},
   "source": [
    "# Q5:"
   ]
  },
  {
   "cell_type": "markdown",
   "metadata": {},
   "source": [
    "Make a list of the multiples of 3 from 3 to 30. Use a for loop to\n",
    "print the numbers in your list."
   ]
  },
  {
   "cell_type": "code",
   "execution_count": 5,
   "metadata": {},
   "outputs": [
    {
     "name": "stdout",
     "output_type": "stream",
     "text": [
      "3\n",
      "6\n",
      "9\n",
      "12\n",
      "15\n",
      "18\n",
      "21\n",
      "24\n",
      "27\n",
      "30\n"
     ]
    }
   ],
   "source": [
    "for value in list(range(3, 31, 3)):\n",
    "    print(value)"
   ]
  },
  {
   "cell_type": "markdown",
   "metadata": {},
   "source": [
    "# Q6:"
   ]
  },
  {
   "cell_type": "markdown",
   "metadata": {},
   "source": [
    "A number raised to the third power is called a cube. For example,\n",
    "the cube of 2 is written as 2**3 in Python. Make a list of the first 10 cubes (that\n",
    "is, the cube of each integer from 1 through 10), and use a for loop to print out\n",
    "the value of each cube"
   ]
  },
  {
   "cell_type": "code",
   "execution_count": 6,
   "metadata": {},
   "outputs": [
    {
     "name": "stdout",
     "output_type": "stream",
     "text": [
      "[1, 8, 27, 64, 125, 216, 343, 512, 729, 1000]\n"
     ]
    }
   ],
   "source": [
    "cube = [value**3 for value in range(1, 11)]\n",
    "print(cube)"
   ]
  },
  {
   "cell_type": "markdown",
   "metadata": {},
   "source": [
    "# Q7:"
   ]
  },
  {
   "cell_type": "markdown",
   "metadata": {},
   "source": [
    "###### Make a python program that conatains your nine favourite dishes in a list called foods.\n",
    "\n",
    "###### Print the message, The first three items in the list are:. \n",
    "###### Then use a slice to print the first three items from that program’s list.\n",
    "\n",
    "###### Print the message, Three items from the middle of the list are:\n",
    "###### Use a slice to print three items from the middle of the list.\n",
    "\n",
    "###### Print the message, The last three items in the list are:\n",
    "###### Use a slice to print the last three items in the list."
   ]
  },
  {
   "cell_type": "code",
   "execution_count": 2,
   "metadata": {},
   "outputs": [],
   "source": [
    "foods = [\"palak\", \"chikn\", \"cutlets\", \"tikka\", \"chowmin\", \"pasta\", \"rice\", \"biryani\"]"
   ]
  },
  {
   "cell_type": "code",
   "execution_count": 6,
   "metadata": {},
   "outputs": [
    {
     "name": "stdout",
     "output_type": "stream",
     "text": [
      "palak chikn cutlets my three favourite dishes.\n"
     ]
    }
   ],
   "source": [
    "print(foods[0], foods[1], foods[2] + \" \" + \"my three favourite dishes.\")"
   ]
  },
  {
   "cell_type": "code",
   "execution_count": 9,
   "metadata": {},
   "outputs": [
    {
     "name": "stdout",
     "output_type": "stream",
     "text": [
      "['palak', 'chikn', 'cutlets']\n"
     ]
    }
   ],
   "source": [
    "print(foods[0:3])"
   ]
  },
  {
   "cell_type": "code",
   "execution_count": 13,
   "metadata": {},
   "outputs": [
    {
     "name": "stdout",
     "output_type": "stream",
     "text": [
      "Three items from the middle of the list are chowmin pasta rice\n"
     ]
    }
   ],
   "source": [
    "print(\"Three items from the middle of the list are\" + \" \" + foods[4], foods[5], foods[6])"
   ]
  },
  {
   "cell_type": "code",
   "execution_count": 16,
   "metadata": {},
   "outputs": [
    {
     "name": "stdout",
     "output_type": "stream",
     "text": [
      "['chowmin', 'pasta', 'rice']\n"
     ]
    }
   ],
   "source": [
    "print(foods[4:7])"
   ]
  },
  {
   "cell_type": "code",
   "execution_count": 8,
   "metadata": {},
   "outputs": [
    {
     "name": "stdout",
     "output_type": "stream",
     "text": [
      "The last three items in the list are pasta rice biryani\n"
     ]
    }
   ],
   "source": [
    "print(\"The last three items in the list are\" + \" \" + foods[5],  foods[6], foods[7])"
   ]
  },
  {
   "cell_type": "code",
   "execution_count": 10,
   "metadata": {},
   "outputs": [
    {
     "name": "stdout",
     "output_type": "stream",
     "text": [
      "['pasta', 'rice', 'biryani']\n"
     ]
    }
   ],
   "source": [
    "print(foods[5:8])"
   ]
  },
  {
   "cell_type": "markdown",
   "metadata": {},
   "source": [
    "# Q8:"
   ]
  },
  {
   "cell_type": "markdown",
   "metadata": {},
   "source": [
    "### Start with your program from your last Question8.\n",
    "###### Make a copy of the list of foods, and call it friend_foods.\n",
    "###### Then, do the following:\n",
    "######    Add a new dish to the original list.\n",
    "######    Add a different dish to the list friend_foodss.\n",
    "######    Prove that you have two separate lists. \n",
    "###### Print the message, My favorite pizzas are: and then use a for loop to print the first list. \n",
    "###### Print the message,\n",
    "###### My friend’s favorite foods are:, and then use a for loop to print the second list.\n",
    "    \n",
    "##### NOTE: Make sure each new dish is stored in the appropriate list."
   ]
  },
  {
   "cell_type": "code",
   "execution_count": 12,
   "metadata": {},
   "outputs": [],
   "source": [
    "friend_foods = [\"palak\", \"chikn\", \"cutlets\", \"tikka\", \"chowmin\", \"pasta\", \"rice\", \"biryani\",]"
   ]
  },
  {
   "cell_type": "code",
   "execution_count": 14,
   "metadata": {},
   "outputs": [
    {
     "name": "stdout",
     "output_type": "stream",
     "text": [
      "['palak', 'chikn', 'cutlets', 'tikka', 'chowmin', 'pasta', 'rice', 'biryani', 'speghati', 'speghati']\n"
     ]
    }
   ],
   "source": [
    "friend_foods.append(\"speghati\")\n",
    "print(friend_foods)"
   ]
  },
  {
   "cell_type": "code",
   "execution_count": 15,
   "metadata": {},
   "outputs": [],
   "source": [
    "friend_foodss = [\"krahi\", \"paye\", \"bong\", \"chany\"]"
   ]
  },
  {
   "cell_type": "code",
   "execution_count": 16,
   "metadata": {},
   "outputs": [
    {
     "name": "stdout",
     "output_type": "stream",
     "text": [
      "Both lists are different\n"
     ]
    }
   ],
   "source": [
    "if friend_foods == friend_foodss:\n",
    "    print(\"Both lists are similar\")\n",
    "else:\n",
    "    print(\"Both lists are different\")"
   ]
  },
  {
   "cell_type": "code",
   "execution_count": 20,
   "metadata": {},
   "outputs": [
    {
     "name": "stdout",
     "output_type": "stream",
     "text": [
      "My favoriute pizza is fajita\n",
      "My favoriute pizza is supream\n",
      "My favoriute pizza is tikka\n",
      "My favoriute pizza is afghani\n"
     ]
    }
   ],
   "source": [
    "for piza in pizza:\n",
    "    print(\"My favoriute pizza is\" + \" \" + piza)"
   ]
  },
  {
   "cell_type": "code",
   "execution_count": 23,
   "metadata": {},
   "outputs": [
    {
     "name": "stdout",
     "output_type": "stream",
     "text": [
      "My friends fvrt foods are krahi\n",
      "My friends fvrt foods are paye\n",
      "My friends fvrt foods are bong\n",
      "My friends fvrt foods are chany\n"
     ]
    }
   ],
   "source": [
    "for fvt_dishes in friend_foodss:\n",
    "    print(\"My friends fvrt foods are\" + \" \" + fvt_dishes)"
   ]
  },
  {
   "cell_type": "code",
   "execution_count": null,
   "metadata": {},
   "outputs": [],
   "source": []
  },
  {
   "cell_type": "markdown",
   "metadata": {},
   "source": [
    "# Q9:"
   ]
  },
  {
   "cell_type": "markdown",
   "metadata": {},
   "source": [
    "Take a user input from console line.Store it in a variable called Alien_color.\n",
    "\n",
    "If the alien’s color is red, print a statement that the player just earned 5 points for shooting the alien.\n",
    "\n",
    "If the alien’s color isn’t green, print a statement that the player just earned 10 points.\n",
    "\n",
    "If the alien's color isn't red or green , print a statment :, Alien is no more....."
   ]
  },
  {
   "cell_type": "code",
   "execution_count": 6,
   "metadata": {},
   "outputs": [
    {
     "name": "stdout",
     "output_type": "stream",
     "text": [
      "The color of the Alien is red\n",
      "Player just earned 5 points for shooting the alien.\n"
     ]
    }
   ],
   "source": [
    "Alien_color = input(\"The color of the Alien is \")\n",
    "if Alien_color == \"red\":\n",
    "    print(\"Player just earned 5 points for shooting the alien.\")\n",
    "elif Alien_color != \"green\":\n",
    "    print(\"Player just earned 5 points for shooting the alien.\")\n",
    "elif (Alien_color != \"red\" or Alien_color != \"green\"):\n",
    "    print(\"Alien is no more.\")"
   ]
  },
  {
   "cell_type": "markdown",
   "metadata": {},
   "source": [
    "# Q10:"
   ]
  },
  {
   "cell_type": "markdown",
   "metadata": {},
   "source": [
    "Write an if-elif-else chain that determines a person’s\n",
    "stage of life. Set a value for the variable age, and then:\n",
    "    \n",
    "•\t If the person is less than 2 years old, print a message that the person is a baby.\n",
    "\n",
    "•\t If the person is at least 2 years old but less than 4, print a message that the person is a toddler.\n",
    "\n",
    "•\t If the person is at least 4 years old but less than 13, print a message that the person is a kid.\n",
    "\n",
    "•\t If the person is at least 13 years old but less than 20, print a message that the person is a teenager.\n",
    "\n",
    "•\t If the person is at least 20 years old but less than 65, print a message that the person is an adult.\n",
    "\n",
    "•\t If the person is age 65 or older, print a message that the person is an elder."
   ]
  },
  {
   "cell_type": "code",
   "execution_count": 9,
   "metadata": {},
   "outputs": [
    {
     "name": "stdout",
     "output_type": "stream",
     "text": [
      "Please enter your age 14\n",
      "The person is teenager\n"
     ]
    }
   ],
   "source": [
    "Age = int(input(\"Please enter your age \"))\n",
    "if Age < 2:\n",
    "    print(\"The person is a baby.\")\n",
    "elif Age == 2 or Age < 4:\n",
    "    print(\"The person is a toddler.\")\n",
    "elif Age == 4 or Age < 13:\n",
    "    print(\"The person is a kid.\")\n",
    "elif Age == 13 or Age < 20:\n",
    "    print(\"The person is teenager\")\n",
    "elif Age == 20 or Age < 65:\n",
    "    print(\"The person is an adult.\")\n",
    "else:\n",
    "    print(\"The person is an adult\")"
   ]
  },
  {
   "cell_type": "markdown",
   "metadata": {},
   "source": [
    "# Q11:"
   ]
  },
  {
   "cell_type": "markdown",
   "metadata": {},
   "source": [
    "Do the following to create a program that simulates how websites ensure that everyone has a unique username.\n",
    "\n",
    "•\t Make a list of five or more usernames called current_users.\n",
    "\n",
    "•\t Make another list of five usernames called new_users. \n",
    "Make sure one or two of the new usernames are also in the current_users list.\n",
    "\n",
    "•\t Loop through the new_users list to see if each new username has already been used. \n",
    "If it has, print a message that the person will need to enter a new username. \n",
    "If a username has not been used, print a message saying that the username is available.\n",
    "\n",
    "•\t Make sure your comparison is case insensitive. If 'John' has been used, 'JOHN' should not be accepted."
   ]
  },
  {
   "cell_type": "code",
   "execution_count": 1,
   "metadata": {},
   "outputs": [],
   "source": [
    "current_username = [\"amnasami\", \"ashisajid\", \"sidrahmmad\", \"fatimajwd\", \"fizafaiq\", \"zainbjannat\"]"
   ]
  },
  {
   "cell_type": "code",
   "execution_count": 2,
   "metadata": {},
   "outputs": [],
   "source": [
    "new_username = [\"uzmaasghr\", \"nazofati\", \"iqrabno\", \"fatimajwd\", \"fizafaiq\", \"zainbjannat\"]"
   ]
  },
  {
   "cell_type": "code",
   "execution_count": 5,
   "metadata": {},
   "outputs": [
    {
     "ename": "NameError",
     "evalue": "name 'new_users' is not defined",
     "output_type": "error",
     "traceback": [
      "\u001b[1;31m---------------------------------------------------------------------------\u001b[0m",
      "\u001b[1;31mNameError\u001b[0m                                 Traceback (most recent call last)",
      "\u001b[1;32m<ipython-input-5-46112b32cc04>\u001b[0m in \u001b[0;36m<module>\u001b[1;34m\u001b[0m\n\u001b[1;32m----> 1\u001b[1;33m \u001b[1;32mfor\u001b[0m \u001b[0mnew_username\u001b[0m \u001b[1;32min\u001b[0m \u001b[0mnew_users\u001b[0m\u001b[1;33m:\u001b[0m\u001b[1;33m\u001b[0m\u001b[1;33m\u001b[0m\u001b[0m\n\u001b[0m\u001b[0;32m      2\u001b[0m     \u001b[1;32mif\u001b[0m \u001b[0mnew_username\u001b[0m \u001b[1;32min\u001b[0m \u001b[0mcurrent_username\u001b[0m\u001b[1;33m:\u001b[0m\u001b[1;33m\u001b[0m\u001b[1;33m\u001b[0m\u001b[0m\n\u001b[0;32m      3\u001b[0m         \u001b[0mprint\u001b[0m\u001b[1;33m(\u001b[0m\u001b[1;34m\"enter new username\"\u001b[0m\u001b[1;33m)\u001b[0m\u001b[1;33m\u001b[0m\u001b[1;33m\u001b[0m\u001b[0m\n\u001b[0;32m      4\u001b[0m     \u001b[1;32melse\u001b[0m\u001b[1;33m:\u001b[0m\u001b[1;33m\u001b[0m\u001b[1;33m\u001b[0m\u001b[0m\n\u001b[0;32m      5\u001b[0m         \u001b[0mprint\u001b[0m\u001b[1;33m(\u001b[0m\u001b[1;34m\"This username is availible\"\u001b[0m\u001b[1;33m)\u001b[0m\u001b[1;33m\u001b[0m\u001b[1;33m\u001b[0m\u001b[0m\n",
      "\u001b[1;31mNameError\u001b[0m: name 'new_users' is not defined"
     ]
    }
   ],
   "source": [
    "for new_username in new_users:\n",
    "    if new_username in current_username:\n",
    "        print(\"enter new username\")\n",
    "    else:\n",
    "        print(\"This username is availible\")"
   ]
  },
  {
   "cell_type": "markdown",
   "metadata": {},
   "source": [
    "# Q12:"
   ]
  },
  {
   "cell_type": "markdown",
   "metadata": {},
   "source": [
    "Use a dictionary to store information about a person you know.\n",
    "Store their first name, last name, age, and the city in which they live. \n",
    "You should have keys such as first_name, last_name, age, and city. \n",
    "Print each piece of information stored in your dictionary"
   ]
  },
  {
   "cell_type": "code",
   "execution_count": 20,
   "metadata": {},
   "outputs": [],
   "source": [
    "person_info = {\"first_name\":\"Amna\", \"last_name\":\"Shahzadi\", \"age\":\"28\", \"city\":\"Lahore\", \"current_city\":\"Karachi\"}"
   ]
  },
  {
   "cell_type": "code",
   "execution_count": 21,
   "metadata": {},
   "outputs": [
    {
     "name": "stdout",
     "output_type": "stream",
     "text": [
      "dict_keys(['first_name', 'last_name', 'age', 'city', 'current_city'])\n"
     ]
    }
   ],
   "source": [
    "print(person_info.keys())"
   ]
  },
  {
   "cell_type": "code",
   "execution_count": 22,
   "metadata": {},
   "outputs": [
    {
     "name": "stdout",
     "output_type": "stream",
     "text": [
      "dict_values(['Amna', 'Shahzadi', '28', 'Lahore', 'Karachi'])\n"
     ]
    }
   ],
   "source": [
    "print(person_info.values())"
   ]
  },
  {
   "cell_type": "code",
   "execution_count": 23,
   "metadata": {},
   "outputs": [
    {
     "name": "stdout",
     "output_type": "stream",
     "text": [
      "{'first_name': 'Amna', 'last_name': 'Shahzadi', 'age': '28', 'city': 'Lahore', 'current_city': 'Karachi'}\n"
     ]
    }
   ],
   "source": [
    "print(person_info)"
   ]
  },
  {
   "cell_type": "markdown",
   "metadata": {},
   "source": [
    "# Q13:"
   ]
  },
  {
   "cell_type": "markdown",
   "metadata": {},
   "source": [
    "Starts with your last question 12 , loop through the dictionary’s keys and values.\n",
    "When you’re sure that your loop works, add five more Python terms to your\n",
    "dictionary . When you run your program again, these new words and meanings\n",
    "should automatically be included in the output."
   ]
  },
  {
   "cell_type": "code",
   "execution_count": 3,
   "metadata": {},
   "outputs": [],
   "source": [
    "person_info = {\"first_name\":\"Amna\", \"last_name\":\"Shahzadi\", \"age\":\"28\", \"city\":\"Lahore\", \"current_city\":\"Karachi\"}"
   ]
  },
  {
   "cell_type": "code",
   "execution_count": 8,
   "metadata": {},
   "outputs": [
    {
     "name": "stdout",
     "output_type": "stream",
     "text": [
      "Key: first_name\n",
      "Value: Amna\n",
      "Key: last_name\n",
      "Value: Shahzadi\n",
      "Key: age\n",
      "Value: 28\n",
      "Key: city\n",
      "Value: Lahore\n",
      "Key: current_city\n",
      "Value: Karachi\n"
     ]
    }
   ],
   "source": [
    "for key, value in person_info.items():\n",
    "    print(\"Key:\" + \" \" + key)\n",
    "    print(\"Value:\" + \" \" + value)"
   ]
  },
  {
   "cell_type": "code",
   "execution_count": 9,
   "metadata": {},
   "outputs": [],
   "source": [
    "person_info[\"tuple\"] = \"list that cannot be change\"\n",
    "person_info[\"append\"] = \"adding element in the end of list\"\n",
    "person_info[\"pop\"] = \"delting and storing in another variale\"\n",
    "person_info[\"print\"] = \"displying the msg\"\n",
    "person_info[\"modulo\"] = \"give the remaining after dividing\""
   ]
  },
  {
   "cell_type": "code",
   "execution_count": 10,
   "metadata": {},
   "outputs": [
    {
     "name": "stdout",
     "output_type": "stream",
     "text": [
      "{'first_name': 'Amna', 'last_name': 'Shahzadi', 'age': '28', 'city': 'Lahore', 'current_city': 'Karachi', 'tuple': 'list that cannot be change', 'append': 'adding element in the end of list', 'pop': 'delting and storing in another variale', 'print': 'displying the msg', 'modulo': 'give the remaining after dividing'}\n"
     ]
    }
   ],
   "source": [
    "print(person_info)"
   ]
  },
  {
   "cell_type": "code",
   "execution_count": null,
   "metadata": {},
   "outputs": [],
   "source": []
  },
  {
   "cell_type": "code",
   "execution_count": null,
   "metadata": {},
   "outputs": [],
   "source": []
  },
  {
   "cell_type": "markdown",
   "metadata": {},
   "source": [
    "# Q14:"
   ]
  },
  {
   "cell_type": "markdown",
   "metadata": {},
   "source": [
    "Make a dictionary containing three major rivers and the country\n",
    "each river runs through. One key-value pair might be 'nile': 'egypt'.\n",
    "    \n",
    "    \n",
    "•\t Use a loop to print a sentence about each river, such as The Nile runs\n",
    "through Egypt.\n",
    "\n",
    "NOTE: use upper case through keys and values."
   ]
  },
  {
   "cell_type": "code",
   "execution_count": 12,
   "metadata": {},
   "outputs": [],
   "source": [
    "rivers = {\"Ravi\":\"Punjab\", \"Indus\":\"Sindh\", \"Nile\":\"Egypt\", \"Kunhar\":\"Naran\"}"
   ]
  },
  {
   "cell_type": "code",
   "execution_count": 13,
   "metadata": {},
   "outputs": [
    {
     "name": "stdout",
     "output_type": "stream",
     "text": [
      "The Ravi runs through Punjab\n",
      "The Indus runs through Sindh\n",
      "The Nile runs through Egypt\n",
      "The Kunhar runs through Naran\n"
     ]
    }
   ],
   "source": [
    "for river, city in rivers.items():\n",
    "    print(\"The\" + \" \" + river + \" \" + \"runs through\" + \" \" + city)"
   ]
  },
  {
   "cell_type": "code",
   "execution_count": null,
   "metadata": {},
   "outputs": [],
   "source": []
  },
  {
   "cell_type": "markdown",
   "metadata": {},
   "source": [
    "# Q15:"
   ]
  },
  {
   "cell_type": "markdown",
   "metadata": {},
   "source": [
    "Make several dictionaries, where the name of each dictionary is the\n",
    "name of a pet. In each dictionary, include the kind of animal and the owner’s\n",
    "name. Store these dictionaries in a list called pets. Next, loop through your list\n",
    "and as you do print everything you know about each pet."
   ]
  },
  {
   "cell_type": "code",
   "execution_count": 15,
   "metadata": {},
   "outputs": [],
   "source": [
    "pet_0 = {\"Parrot\":\"Amna\"}\n",
    "pet_1 = {\"Roastr\":\"Hammad\"}\n",
    "pet_2 = {\"cat\":\"Khalid\"}\n",
    "pet_3 = {\"Dog\":\"Hamza\"}\n",
    "pet_4 = {\"Goat\":\"Ashi\"}"
   ]
  },
  {
   "cell_type": "code",
   "execution_count": 16,
   "metadata": {},
   "outputs": [],
   "source": [
    "pets = [pet_0, pet_1, pet_2, pet_3, pet_4]"
   ]
  },
  {
   "cell_type": "code",
   "execution_count": 17,
   "metadata": {},
   "outputs": [
    {
     "name": "stdout",
     "output_type": "stream",
     "text": [
      "[{'Parrot': 'Amna'}, {'Roastr': 'Hammad'}, {'cat': 'Khalid'}, {'Dog': 'Hamza'}, {'Goat': 'Ashi'}]\n",
      "[{'Parrot': 'Amna'}, {'Roastr': 'Hammad'}, {'cat': 'Khalid'}, {'Dog': 'Hamza'}, {'Goat': 'Ashi'}]\n",
      "[{'Parrot': 'Amna'}, {'Roastr': 'Hammad'}, {'cat': 'Khalid'}, {'Dog': 'Hamza'}, {'Goat': 'Ashi'}]\n",
      "[{'Parrot': 'Amna'}, {'Roastr': 'Hammad'}, {'cat': 'Khalid'}, {'Dog': 'Hamza'}, {'Goat': 'Ashi'}]\n",
      "[{'Parrot': 'Amna'}, {'Roastr': 'Hammad'}, {'cat': 'Khalid'}, {'Dog': 'Hamza'}, {'Goat': 'Ashi'}]\n"
     ]
    }
   ],
   "source": [
    "for ever_pet in pets:\n",
    "    print(pets)"
   ]
  }
 ],
 "metadata": {
  "kernelspec": {
   "display_name": "Python 3",
   "language": "python",
   "name": "python3"
  },
  "language_info": {
   "codemirror_mode": {
    "name": "ipython",
    "version": 3
   },
   "file_extension": ".py",
   "mimetype": "text/x-python",
   "name": "python",
   "nbconvert_exporter": "python",
   "pygments_lexer": "ipython3",
   "version": "3.7.3"
  }
 },
 "nbformat": 4,
 "nbformat_minor": 2
}
